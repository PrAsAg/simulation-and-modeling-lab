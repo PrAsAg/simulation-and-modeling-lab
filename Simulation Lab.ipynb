{
 "cells": [
  {
   "cell_type": "code",
   "execution_count": 1,
   "metadata": {},
   "outputs": [],
   "source": [
    "import numpy as np\n",
    "from random import randint, random\n",
    "import matplotlib.pyplot as plt"
   ]
  },
  {
   "cell_type": "code",
   "execution_count": null,
   "metadata": {},
   "outputs": [],
   "source": []
  },
  {
   "cell_type": "markdown",
   "metadata": {},
   "source": [
    "# 1.Random NUmber Generation"
   ]
  },
  {
   "cell_type": "code",
   "execution_count": 2,
   "metadata": {},
   "outputs": [],
   "source": [
    "def pseudo_random_number(seed = randint(0,100) , size = 1 , multiplicant = 788 , mod = 2**10-1):\n",
    "    x = (seed * multiplicant + 4578)% mod\n",
    "    batch = [x,]\n",
    "    if size == 1 :\n",
    "        return x\n",
    "    else:\n",
    "        for i in range(1,size):\n",
    "            x= (x*multiplicant+4578)%mod\n",
    "            batch.append(x)\n",
    "        return batch"
   ]
  },
  {
   "cell_type": "code",
   "execution_count": 3,
   "metadata": {},
   "outputs": [],
   "source": [
    "def random_number_with_limit(size = 1,seed = randint(0,100),lower_limit = 0, higher_limit = 9):\n",
    "    random_list = pseudo_random_number(size = size,seed = seed)\n",
    "    old_range = max(random_list)-min(random_list)\n",
    "    new_range = higher_limit - lower_limit\n",
    "    new_values=[]\n",
    "    for i in range(size):\n",
    "        new_val = int((((random_list[i]- min(random_list))*new_range)/old_range)+ lower_limit)\n",
    "        new_values.append(new_val)\n",
    "    return new_values\n",
    "    \n",
    "    "
   ]
  },
  {
   "cell_type": "code",
   "execution_count": 4,
   "metadata": {},
   "outputs": [
    {
     "data": {
      "text/plain": [
       "[144, 101, 114, 200, 100]"
      ]
     },
     "execution_count": 4,
     "metadata": {},
     "output_type": "execute_result"
    }
   ],
   "source": [
    "random_number_with_limit(size = 5,seed= 100,lower_limit = 100, higher_limit = 200)"
   ]
  },
  {
   "cell_type": "markdown",
   "metadata": {},
   "source": [
    "# 2.Coin Tosss"
   ]
  },
  {
   "cell_type": "code",
   "execution_count": 5,
   "metadata": {},
   "outputs": [],
   "source": [
    "def coinToss(noOfTosses,times):\n",
    "    random_variable = np.random.rand(noOfTosses,times)\n",
    "    y= (random_variable<0.5)\n",
    "    z= sum(map(lambda i:i == True , y))\n",
    "    probability= z/noOfTosses\n",
    "    return sum(probability)/times\n"
   ]
  },
  {
   "cell_type": "code",
   "execution_count": 6,
   "metadata": {},
   "outputs": [
    {
     "name": "stdout",
     "output_type": "stream",
     "text": [
      "Probability of head =  0.50015665\n"
     ]
    }
   ],
   "source": [
    "print('Probability of head = ',coinToss(1000000,20))"
   ]
  },
  {
   "cell_type": "markdown",
   "metadata": {},
   "source": [
    "### Self"
   ]
  },
  {
   "cell_type": "code",
   "execution_count": 7,
   "metadata": {},
   "outputs": [],
   "source": [
    "def coinToss_self(sample):\n",
    "    rand= random_number_with_limit(size = sample,lower_limit = 0, higher_limit = 9)\n",
    "    rand = np.array(rand)\n",
    "    y= (rand<5)\n",
    "    z= sum(map(lambda i:i == True , y))\n",
    "    probability= z/sample\n",
    "    print(probability)"
   ]
  },
  {
   "cell_type": "code",
   "execution_count": 8,
   "metadata": {},
   "outputs": [
    {
     "name": "stdout",
     "output_type": "stream",
     "text": [
      "0.5666\n"
     ]
    }
   ],
   "source": [
    "coinToss_self(10000)"
   ]
  },
  {
   "cell_type": "markdown",
   "metadata": {},
   "source": [
    "# 3.Estimation of value of pie"
   ]
  },
  {
   "cell_type": "code",
   "execution_count": 9,
   "metadata": {},
   "outputs": [],
   "source": [
    "def val_pie(sample_points):\n",
    "    x= np.random.rand(sample_points)\n",
    "    y= np.random.rand(sample_points)\n",
    "    circle_point_count = sum([1 for i in range (sample_points) if ((x[i]**2+y[i]**2)<=1) ])\n",
    "    square_point_count = sample_points\n",
    "    return (4*(circle_point_count/square_point_count))"
   ]
  },
  {
   "cell_type": "code",
   "execution_count": 10,
   "metadata": {},
   "outputs": [
    {
     "name": "stdout",
     "output_type": "stream",
     "text": [
      "Entimated value of PIE =  3.13784\n"
     ]
    }
   ],
   "source": [
    "print('Entimated value of PIE = ',val_pie(1000000))"
   ]
  },
  {
   "cell_type": "code",
   "execution_count": 11,
   "metadata": {},
   "outputs": [],
   "source": [
    "points =500"
   ]
  },
  {
   "cell_type": "code",
   "execution_count": 12,
   "metadata": {},
   "outputs": [],
   "source": [
    "x= np.random.rand(points)\n",
    "y= np.random.rand(points)"
   ]
  },
  {
   "cell_type": "code",
   "execution_count": 13,
   "metadata": {},
   "outputs": [
    {
     "data": {
      "image/png": "[encoded data removed]",
      "text/plain": [
       "<Figure size 432x288 with 1 Axes>"
      ]
     },
     "metadata": {
      "needs_background": "light"
     },
     "output_type": "display_data"
    }
   ],
   "source": [
    "for i in range(points):\n",
    "    if x[i]**2+y[i]**2<=1:\n",
    "        plt.scatter(x[i],y[i],color = 'red')\n",
    "        plt.scatter(-x[i],y[i],color = 'red')\n",
    "        plt.scatter(x[i],-y[i],color = 'red')\n",
    "        plt.scatter(-x[i],-y[i],color = 'red')\n",
    "    else:\n",
    "        plt.scatter(x[i],y[i],color = 'blue')\n",
    "        plt.scatter(-x[i],y[i],color = 'blue')\n",
    "        plt.scatter(x[i],-y[i],color = 'blue')\n",
    "        plt.scatter(-x[i],-y[i],color = 'blue')\n",
    "plt.show()"
   ]
  },
  {
   "cell_type": "markdown",
   "metadata": {},
   "source": [
    "# 4.Random Number test"
   ]
  },
  {
   "cell_type": "markdown",
   "metadata": {},
   "source": [
    "### Kolmogorov-Smirnov Goodness of Fit(BY SELF)"
   ]
  },
  {
   "cell_type": "code",
   "execution_count": 14,
   "metadata": {},
   "outputs": [],
   "source": [
    "def KS_test_self_random():\n",
    "    size = 41\n",
    "    random_values = random_number_with_limit(size = size,lower_limit = 0, higher_limit = 1)\n",
    "    random_values.sort()\n",
    "    dPlus = [((i/size)-random_values[i-1]) for i in range(1,size+1)]\n",
    "    dMinus = [(random_values[i-1]-((i-1)/size)) for i in range (1,size+1)]\n",
    "    max_dPlus = max(dPlus)\n",
    "    max_dMinus = max(dMinus)\n",
    "    D_calculated = max(max_dMinus,max_dPlus)\n",
    "    print(\"Dcalculated=\",D_calculated)\n",
    "    D_critical = 0.210 #from critical table for 40 degree of freedom and aplha 0.05\n",
    "    print(\"D_critical =\",D_critical)\n",
    "    if(D_calculated<=D_critical):\n",
    "        print(\"Uniformaly Distributed\")\n",
    "    else:\n",
    "        print(\"Not Uniformly Distributed\")"
   ]
  },
  {
   "cell_type": "markdown",
   "metadata": {},
   "source": [
    "### Kolmogorov-Smirnov Goodness of Fit(IMPORTED)"
   ]
  },
  {
   "cell_type": "code",
   "execution_count": 15,
   "metadata": {},
   "outputs": [],
   "source": [
    "def KS_test_imported_random():\n",
    "    size = 41\n",
    "    random_values =[random() for i in range(size)]\n",
    "    random_values.sort()\n",
    "    dPlus = [((i/size)-random_values[i-1]) for i in range(1,size+1)]\n",
    "    dMinus = [(random_values[i-1]-((i-1)/size)) for i in range (1,size+1)]\n",
    "    max_dPlus = max(dPlus)\n",
    "    max_dMinus = max(dMinus)\n",
    "    D_calculated = max(max_dMinus,max_dPlus)\n",
    "    print(\"Dcalculated=\",D_calculated)\n",
    "    D_critical = 0.210 #from critical table for 40 degree of freedom and aplha 0.05\n",
    "    print(\"D_critical =\",D_critical)\n",
    "    if(D_calculated<=D_critical):\n",
    "        print(\"Uniformaly Distributed\")\n",
    "    else:\n",
    "        print(\"Not Uniformly Distributed\")"
   ]
  },
  {
   "cell_type": "code",
   "execution_count": 16,
   "metadata": {},
   "outputs": [
    {
     "name": "stdout",
     "output_type": "stream",
     "text": [
      "Dcalculated= 0.13550012886182464\n",
      "D_critical = 0.21\n",
      "Uniformaly Distributed\n",
      "Dcalculated= 0.975609756097561\n",
      "D_critical = 0.21\n",
      "Not Uniformly Distributed\n"
     ]
    }
   ],
   "source": [
    "KS_test_imported_random()\n",
    "KS_test_self_random()"
   ]
  },
  {
   "cell_type": "markdown",
   "metadata": {},
   "source": [
    "### Chi Square Goodness of fit SELF"
   ]
  },
  {
   "cell_type": "code",
   "execution_count": 17,
   "metadata": {},
   "outputs": [],
   "source": [
    "def chi_square_test_self(size):\n",
    "    random_values = random_number_with_limit(size =size,seed = 20,lower_limit = 0, higher_limit = 9)\n",
    "    O = [random_values.count(i) for i in range(10)]\n",
    "    E = size / 10\n",
    "    xSquare_Calculated = sum([((O[i]-E)**2)/E for i in range (10)])\n",
    "    print(\"xSquare_Calculated = \",xSquare_Calculated)\n",
    "    xSquare_critical = 67.50 # for degree of freedom = 50 and alpha =0.05\n",
    "    print(\"xSquare_critical = \",xSquare_critical )\n",
    "    if(xSquare_Calculated<=xSquare_critical):\n",
    "        print(\"Uniformaly Distributed\")\n",
    "    else:\n",
    "        print(\"Not Uniformly Distributed\")"
   ]
  },
  {
   "cell_type": "markdown",
   "metadata": {},
   "source": [
    "### Chi Square Goodness of fit IMPORTED"
   ]
  },
  {
   "cell_type": "code",
   "execution_count": 18,
   "metadata": {},
   "outputs": [],
   "source": [
    "def chi_square_test_imported(size):\n",
    "    random_values = [randint(0,9) for i in range (size)]\n",
    "    O = [random_values.count(i) for i in range(10)]\n",
    "    E = size / 10\n",
    "    xSquare_Calculated = sum([((O[i]-E)**2)/E for i in range (10)])\n",
    "    print(\"xSquare_Calculated = \",xSquare_Calculated)\n",
    "    xSquare_critical = 67.50 # for degree of freedom = 50 and alpha =0.05\n",
    "    print(\"xSquare_critical = \",xSquare_critical )\n",
    "    if(xSquare_Calculated<=xSquare_critical):\n",
    "        print(\"Uniformaly Distributed\")\n",
    "    else:\n",
    "        print(\"Not Uniformly Distributed\")"
   ]
  },
  {
   "cell_type": "code",
   "execution_count": 19,
   "metadata": {},
   "outputs": [
    {
     "name": "stdout",
     "output_type": "stream",
     "text": [
      "xSquare_Calculated =  19.3921568627451\n",
      "xSquare_critical =  67.5\n",
      "Uniformaly Distributed\n"
     ]
    }
   ],
   "source": [
    "chi_square_test_self(51)"
   ]
  },
  {
   "cell_type": "code",
   "execution_count": 20,
   "metadata": {},
   "outputs": [
    {
     "name": "stdout",
     "output_type": "stream",
     "text": [
      "xSquare_Calculated =  6.450980392156864\n",
      "xSquare_critical =  67.5\n",
      "Uniformaly Distributed\n"
     ]
    }
   ],
   "source": [
    "chi_square_test_imported(51)"
   ]
  },
  {
   "cell_type": "markdown",
   "metadata": {},
   "source": [
    "# 5.Exponential Random Variate"
   ]
  },
  {
   "cell_type": "code",
   "execution_count": 21,
   "metadata": {},
   "outputs": [],
   "source": [
    "def exponential_random_variate_imported(mean,size):\n",
    "    random_number = [random() for i in range(size)]\n",
    "    print(random_number)\n",
    "    random_variate = [(-1/mean)*np.log(1 - random_number[i]) for i in range(size)]\n",
    "    return random_variate"
   ]
  },
  {
   "cell_type": "code",
   "execution_count": 22,
   "metadata": {},
   "outputs": [
    {
     "name": "stdout",
     "output_type": "stream",
     "text": [
      "[0.4484403545297674, 0.5231784698161087, 0.42416518709261364, 0.7068784866892605, 0.617311198650588, 0.46714762158782264, 0.8278953783984924, 0.4232769127376379, 0.0920040422019015, 0.2846381715691221]\n"
     ]
    },
    {
     "data": {
      "text/plain": [
       "[0.011900105895704652,\n",
       " 0.014812260173269191,\n",
       " 0.0110386888512659,\n",
       " 0.02454336069482146,\n",
       " 0.019210662983919977,\n",
       " 0.012590217135143852,\n",
       " 0.03519305443923777,\n",
       " 0.01100786091522152,\n",
       " 0.001930307043099232,\n",
       " 0.006699336210813327]"
      ]
     },
     "execution_count": 22,
     "metadata": {},
     "output_type": "execute_result"
    }
   ],
   "source": [
    "exponential_random_variate_imported(50,10)"
   ]
  },
  {
   "cell_type": "code",
   "execution_count": null,
   "metadata": {},
   "outputs": [],
   "source": []
  },
  {
   "cell_type": "code",
   "execution_count": null,
   "metadata": {},
   "outputs": [],
   "source": []
  }
 ],
 "metadata": {
  "kernelspec": {
   "display_name": "Python 3 (ipykernel)",
   "language": "python",
   "name": "python3"
  },
  "language_info": {
   "codemirror_mode": {
    "name": "ipython",
    "version": 3
   },
   "file_extension": ".py",
   "mimetype": "text/x-python",
   "name": "python",
   "nbconvert_exporter": "python",
   "pygments_lexer": "ipython3",
   "version": "3.8.3"
  }
 },
 "nbformat": 4,
 "nbformat_minor": 4
}
